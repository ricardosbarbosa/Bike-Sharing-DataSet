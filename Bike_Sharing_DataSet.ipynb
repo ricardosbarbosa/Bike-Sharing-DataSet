{
 "cells": [
  {
   "cell_type": "markdown",
   "metadata": {
    "colab_type": "text",
    "id": "KgjJ5T8Pjece"
   },
   "source": [
    "# Análise de dados\n",
    "Bike Sharing Dataset"
   ]
  },
  {
   "cell_type": "markdown",
   "metadata": {},
   "source": [
    "## Definição do data set\n",
    "O data set abrnage os dados de um sistema de aluguel de bike chamado Capital bikeshare system.\n",
    "No período dos anos de 2011 e 2012.\n",
    "São em torno de 17 mil linhas referentes aos horários e dias dos aluguéis bem como dados referentes sazonais e de clima.\n",
    "### Sobre a capital bikeshare\n",
    "https://www.capitalbikeshare.com/about\n",
    "\n",
    "Capital Bike share é um sistema de compartilhamento de bicicletas com mais de 4300 bicicletas disponiveis em 500 estações distribuidas em 6 grandes regioes: Washington, DC; Arlington, VA; Alexandria, VA; Montgomery County, MD; Prince George's County, MD; and Fairfax County, VA\n",
    "\n",
    "As bicicletas podem ser desbloqueadas e devolvidas em qualquer uma das estações.\n",
    "\n",
    "Já atingiram o marco de 20 milhoes de corridas.\n",
    "\n",
    "Trabalham com um sistema de single trip no valor 2 dólares ou um passe de 24horas no valor de 8 dólares ou ainda uma assinatura anual de 85 dolares para uso ilimitado de corridas. Em todos os formatos espera-se corridas com tempo inferior a 30 minutos."
   ]
  },
  {
   "cell_type": "markdown",
   "metadata": {
    "colab_type": "text",
    "id": "Y4h6rP7UjoNC"
   },
   "source": [
    "## Questões de pesquisa\n",
    "### Questionamentos iniciais\n",
    "- Quem são os usuários do sistema e como eles se comportam durante os dias?\n",
    "\n",
    "### Refinamento\n",
    "- É possivel encontrar um padrão no uso do sistema baseado no tipo de usuarios do serviço (casuais e registrados)?\n",
    "- há um período de maior fluxo de viagens? \n",
    "- Como é possível descrever o perfil dos usuários do sistema?"
   ]
  },
  {
   "cell_type": "markdown",
   "metadata": {},
   "source": [
    "## Data Wrangling (Limpeza dos dados)"
   ]
  },
  {
   "cell_type": "markdown",
   "metadata": {},
   "source": [
    "## Importa todas as bibliotecas necessárias"
   ]
  },
  {
   "cell_type": "code",
   "execution_count": 1,
   "metadata": {},
   "outputs": [],
   "source": [
    "%matplotlib inline\n",
    "import csv\n",
    "from datetime import datetime\n",
    "import numpy as np\n",
    "import pandas as pd\n",
    "from IPython.display import display\n"
   ]
  },
  {
   "cell_type": "markdown",
   "metadata": {},
   "source": [
    "## Definição dos arquivos"
   ]
  },
  {
   "cell_type": "code",
   "execution_count": 2,
   "metadata": {},
   "outputs": [
    {
     "data": {
      "text/html": [
       "<div>\n",
       "<style scoped>\n",
       "    .dataframe tbody tr th:only-of-type {\n",
       "        vertical-align: middle;\n",
       "    }\n",
       "\n",
       "    .dataframe tbody tr th {\n",
       "        vertical-align: top;\n",
       "    }\n",
       "\n",
       "    .dataframe thead th {\n",
       "        text-align: right;\n",
       "    }\n",
       "</style>\n",
       "<table border=\"1\" class=\"dataframe\">\n",
       "  <thead>\n",
       "    <tr style=\"text-align: right;\">\n",
       "      <th></th>\n",
       "      <th>instant</th>\n",
       "      <th>dteday</th>\n",
       "      <th>season</th>\n",
       "      <th>yr</th>\n",
       "      <th>mnth</th>\n",
       "      <th>holiday</th>\n",
       "      <th>weekday</th>\n",
       "      <th>workingday</th>\n",
       "      <th>weathersit</th>\n",
       "      <th>temp</th>\n",
       "      <th>atemp</th>\n",
       "      <th>hum</th>\n",
       "      <th>windspeed</th>\n",
       "      <th>casual</th>\n",
       "      <th>registered</th>\n",
       "      <th>cnt</th>\n",
       "    </tr>\n",
       "  </thead>\n",
       "  <tbody>\n",
       "    <tr>\n",
       "      <th>0</th>\n",
       "      <td>1</td>\n",
       "      <td>2011-01-01</td>\n",
       "      <td>1</td>\n",
       "      <td>0</td>\n",
       "      <td>1</td>\n",
       "      <td>0</td>\n",
       "      <td>6</td>\n",
       "      <td>0</td>\n",
       "      <td>2</td>\n",
       "      <td>0.344167</td>\n",
       "      <td>0.363625</td>\n",
       "      <td>0.805833</td>\n",
       "      <td>0.160446</td>\n",
       "      <td>331</td>\n",
       "      <td>654</td>\n",
       "      <td>985</td>\n",
       "    </tr>\n",
       "    <tr>\n",
       "      <th>1</th>\n",
       "      <td>2</td>\n",
       "      <td>2011-01-02</td>\n",
       "      <td>1</td>\n",
       "      <td>0</td>\n",
       "      <td>1</td>\n",
       "      <td>0</td>\n",
       "      <td>0</td>\n",
       "      <td>0</td>\n",
       "      <td>2</td>\n",
       "      <td>0.363478</td>\n",
       "      <td>0.353739</td>\n",
       "      <td>0.696087</td>\n",
       "      <td>0.248539</td>\n",
       "      <td>131</td>\n",
       "      <td>670</td>\n",
       "      <td>801</td>\n",
       "    </tr>\n",
       "    <tr>\n",
       "      <th>2</th>\n",
       "      <td>3</td>\n",
       "      <td>2011-01-03</td>\n",
       "      <td>1</td>\n",
       "      <td>0</td>\n",
       "      <td>1</td>\n",
       "      <td>0</td>\n",
       "      <td>1</td>\n",
       "      <td>1</td>\n",
       "      <td>1</td>\n",
       "      <td>0.196364</td>\n",
       "      <td>0.189405</td>\n",
       "      <td>0.437273</td>\n",
       "      <td>0.248309</td>\n",
       "      <td>120</td>\n",
       "      <td>1229</td>\n",
       "      <td>1349</td>\n",
       "    </tr>\n",
       "    <tr>\n",
       "      <th>3</th>\n",
       "      <td>4</td>\n",
       "      <td>2011-01-04</td>\n",
       "      <td>1</td>\n",
       "      <td>0</td>\n",
       "      <td>1</td>\n",
       "      <td>0</td>\n",
       "      <td>2</td>\n",
       "      <td>1</td>\n",
       "      <td>1</td>\n",
       "      <td>0.200000</td>\n",
       "      <td>0.212122</td>\n",
       "      <td>0.590435</td>\n",
       "      <td>0.160296</td>\n",
       "      <td>108</td>\n",
       "      <td>1454</td>\n",
       "      <td>1562</td>\n",
       "    </tr>\n",
       "    <tr>\n",
       "      <th>4</th>\n",
       "      <td>5</td>\n",
       "      <td>2011-01-05</td>\n",
       "      <td>1</td>\n",
       "      <td>0</td>\n",
       "      <td>1</td>\n",
       "      <td>0</td>\n",
       "      <td>3</td>\n",
       "      <td>1</td>\n",
       "      <td>1</td>\n",
       "      <td>0.226957</td>\n",
       "      <td>0.229270</td>\n",
       "      <td>0.436957</td>\n",
       "      <td>0.186900</td>\n",
       "      <td>82</td>\n",
       "      <td>1518</td>\n",
       "      <td>1600</td>\n",
       "    </tr>\n",
       "  </tbody>\n",
       "</table>\n",
       "</div>"
      ],
      "text/plain": [
       "   instant      dteday  season  yr  mnth  holiday  weekday  workingday  \\\n",
       "0        1  2011-01-01       1   0     1        0        6           0   \n",
       "1        2  2011-01-02       1   0     1        0        0           0   \n",
       "2        3  2011-01-03       1   0     1        0        1           1   \n",
       "3        4  2011-01-04       1   0     1        0        2           1   \n",
       "4        5  2011-01-05       1   0     1        0        3           1   \n",
       "\n",
       "   weathersit      temp     atemp       hum  windspeed  casual  registered  \\\n",
       "0           2  0.344167  0.363625  0.805833   0.160446     331         654   \n",
       "1           2  0.363478  0.353739  0.696087   0.248539     131         670   \n",
       "2           1  0.196364  0.189405  0.437273   0.248309     120        1229   \n",
       "3           1  0.200000  0.212122  0.590435   0.160296     108        1454   \n",
       "4           1  0.226957  0.229270  0.436957   0.186900      82        1518   \n",
       "\n",
       "    cnt  \n",
       "0   985  \n",
       "1   801  \n",
       "2  1349  \n",
       "3  1562  \n",
       "4  1600  "
      ]
     },
     "execution_count": 2,
     "metadata": {},
     "output_type": "execute_result"
    }
   ],
   "source": [
    "sample_data = pd.read_csv('day.csv')\n",
    "sample_data.head()"
   ]
  },
  {
   "cell_type": "code",
   "execution_count": 3,
   "metadata": {},
   "outputs": [
    {
     "data": {
      "text/html": [
       "<div>\n",
       "<style scoped>\n",
       "    .dataframe tbody tr th:only-of-type {\n",
       "        vertical-align: middle;\n",
       "    }\n",
       "\n",
       "    .dataframe tbody tr th {\n",
       "        vertical-align: top;\n",
       "    }\n",
       "\n",
       "    .dataframe thead th {\n",
       "        text-align: right;\n",
       "    }\n",
       "</style>\n",
       "<table border=\"1\" class=\"dataframe\">\n",
       "  <thead>\n",
       "    <tr style=\"text-align: right;\">\n",
       "      <th></th>\n",
       "      <th>instant</th>\n",
       "      <th>dteday</th>\n",
       "      <th>season</th>\n",
       "      <th>yr</th>\n",
       "      <th>mnth</th>\n",
       "      <th>hr</th>\n",
       "      <th>holiday</th>\n",
       "      <th>weekday</th>\n",
       "      <th>workingday</th>\n",
       "      <th>weathersit</th>\n",
       "      <th>temp</th>\n",
       "      <th>atemp</th>\n",
       "      <th>hum</th>\n",
       "      <th>windspeed</th>\n",
       "      <th>casual</th>\n",
       "      <th>registered</th>\n",
       "      <th>cnt</th>\n",
       "    </tr>\n",
       "  </thead>\n",
       "  <tbody>\n",
       "    <tr>\n",
       "      <th>0</th>\n",
       "      <td>1</td>\n",
       "      <td>2011-01-01</td>\n",
       "      <td>1</td>\n",
       "      <td>0</td>\n",
       "      <td>1</td>\n",
       "      <td>0</td>\n",
       "      <td>0</td>\n",
       "      <td>6</td>\n",
       "      <td>0</td>\n",
       "      <td>1</td>\n",
       "      <td>0.24</td>\n",
       "      <td>0.2879</td>\n",
       "      <td>0.81</td>\n",
       "      <td>0.0</td>\n",
       "      <td>3</td>\n",
       "      <td>13</td>\n",
       "      <td>16</td>\n",
       "    </tr>\n",
       "    <tr>\n",
       "      <th>1</th>\n",
       "      <td>2</td>\n",
       "      <td>2011-01-01</td>\n",
       "      <td>1</td>\n",
       "      <td>0</td>\n",
       "      <td>1</td>\n",
       "      <td>1</td>\n",
       "      <td>0</td>\n",
       "      <td>6</td>\n",
       "      <td>0</td>\n",
       "      <td>1</td>\n",
       "      <td>0.22</td>\n",
       "      <td>0.2727</td>\n",
       "      <td>0.80</td>\n",
       "      <td>0.0</td>\n",
       "      <td>8</td>\n",
       "      <td>32</td>\n",
       "      <td>40</td>\n",
       "    </tr>\n",
       "    <tr>\n",
       "      <th>2</th>\n",
       "      <td>3</td>\n",
       "      <td>2011-01-01</td>\n",
       "      <td>1</td>\n",
       "      <td>0</td>\n",
       "      <td>1</td>\n",
       "      <td>2</td>\n",
       "      <td>0</td>\n",
       "      <td>6</td>\n",
       "      <td>0</td>\n",
       "      <td>1</td>\n",
       "      <td>0.22</td>\n",
       "      <td>0.2727</td>\n",
       "      <td>0.80</td>\n",
       "      <td>0.0</td>\n",
       "      <td>5</td>\n",
       "      <td>27</td>\n",
       "      <td>32</td>\n",
       "    </tr>\n",
       "    <tr>\n",
       "      <th>3</th>\n",
       "      <td>4</td>\n",
       "      <td>2011-01-01</td>\n",
       "      <td>1</td>\n",
       "      <td>0</td>\n",
       "      <td>1</td>\n",
       "      <td>3</td>\n",
       "      <td>0</td>\n",
       "      <td>6</td>\n",
       "      <td>0</td>\n",
       "      <td>1</td>\n",
       "      <td>0.24</td>\n",
       "      <td>0.2879</td>\n",
       "      <td>0.75</td>\n",
       "      <td>0.0</td>\n",
       "      <td>3</td>\n",
       "      <td>10</td>\n",
       "      <td>13</td>\n",
       "    </tr>\n",
       "    <tr>\n",
       "      <th>4</th>\n",
       "      <td>5</td>\n",
       "      <td>2011-01-01</td>\n",
       "      <td>1</td>\n",
       "      <td>0</td>\n",
       "      <td>1</td>\n",
       "      <td>4</td>\n",
       "      <td>0</td>\n",
       "      <td>6</td>\n",
       "      <td>0</td>\n",
       "      <td>1</td>\n",
       "      <td>0.24</td>\n",
       "      <td>0.2879</td>\n",
       "      <td>0.75</td>\n",
       "      <td>0.0</td>\n",
       "      <td>0</td>\n",
       "      <td>1</td>\n",
       "      <td>1</td>\n",
       "    </tr>\n",
       "  </tbody>\n",
       "</table>\n",
       "</div>"
      ],
      "text/plain": [
       "   instant      dteday  season  yr  mnth  hr  holiday  weekday  workingday  \\\n",
       "0        1  2011-01-01       1   0     1   0        0        6           0   \n",
       "1        2  2011-01-01       1   0     1   1        0        6           0   \n",
       "2        3  2011-01-01       1   0     1   2        0        6           0   \n",
       "3        4  2011-01-01       1   0     1   3        0        6           0   \n",
       "4        5  2011-01-01       1   0     1   4        0        6           0   \n",
       "\n",
       "   weathersit  temp   atemp   hum  windspeed  casual  registered  cnt  \n",
       "0           1  0.24  0.2879  0.81        0.0       3          13   16  \n",
       "1           1  0.22  0.2727  0.80        0.0       8          32   40  \n",
       "2           1  0.22  0.2727  0.80        0.0       5          27   32  \n",
       "3           1  0.24  0.2879  0.75        0.0       3          10   13  \n",
       "4           1  0.24  0.2879  0.75        0.0       0           1    1  "
      ]
     },
     "execution_count": 3,
     "metadata": {},
     "output_type": "execute_result"
    }
   ],
   "source": [
    "sample_data_hours = pd.read_csv('hour.csv')\n",
    "sample_data_hours.head()"
   ]
  },
  {
   "cell_type": "markdown",
   "metadata": {},
   "source": [
    "## definição dos arquivos\n",
    "O data set vem com dois arquivos: day.csv e hour.csv\n",
    "Os dois possuem as mesmas colunas exceto pela coluna HR que está presente apenas no arquivo hour.csv.\n",
    "\n",
    "IMPORTANTE: Decidi então trabalhar apenas com o arquivo hour.csv representa as corridas em determina hora do dia.\n",
    "\n",
    "Primeiramente extraí apenas os dados do primeiro mes de maneira a trabalhar com todos os dados apenas no final do processamento de limpeza, afim de ser mais rapido nessa fase analisando apenas parte dos dados."
   ]
  },
  {
   "cell_type": "code",
   "execution_count": 4,
   "metadata": {},
   "outputs": [],
   "source": [
    "file_in  = 'hour.csv'\n",
    "file_out = '201101_hour.csv'\n",
    "with open(file_out, 'w') as f_out, open(file_in, 'r') as f_in:\n",
    "    # configura o leitor de csv\n",
    "    in_reader = csv.reader(f_in)\n",
    "    out_writer = csv.writer(f_out)\n",
    "\n",
    "    # escreve os dados no arquivo de saída até que a data limite seja atingida\n",
    "    while True:\n",
    "        datarow = next(in_reader)\n",
    "        # data de início de das viagens na segunda coluna no formato 'yyyy-mm-dd'\n",
    "        if datarow[1][:7] == '2011-02':\n",
    "            break\n",
    "        out_writer.writerow(datarow)"
   ]
  },
  {
   "cell_type": "code",
   "execution_count": 5,
   "metadata": {},
   "outputs": [],
   "source": [
    "def summarise_data(trip_in, trip_out):\n",
    "    with open(trip_out, 'w') as f_out:\n",
    "        # configura o objeto de escrita de csv       \n",
    "        out_colnames = ['dteday', 'day', 'month', 'year', 'hour', \n",
    "                        'holiday', 'weekday', 'workingday',\n",
    "                        'casual', 'registered', 'cnt']\n",
    "        trip_writer = csv.DictWriter(f_out, fieldnames = out_colnames)\n",
    "        trip_writer.writeheader()\n",
    "        \n",
    "        for data_file in trip_in:\n",
    "            with open(data_file, 'r') as f_in:\n",
    "                trip_reader = csv.DictReader(f_in)\n",
    "                for row in trip_reader:\n",
    "                    new_point = {}\n",
    "                    trip_date = datetime.strptime(row['dteday'], '%Y-%m-%d')\n",
    "                    new_point['day']  = trip_date.day\n",
    "                    new_point['month'] = trip_date.month\n",
    "                    new_point['year']  = trip_date.year\n",
    "                    new_point['hour']  = row['hr']\n",
    "                    new_point['holiday']  = row['holiday']\n",
    "                    new_point['weekday']  = trip_date.weekday()\n",
    "                    new_point['workingday']  = row['workingday']                    \n",
    "                    new_point['casual']  = row['casual']\n",
    "                    new_point['registered']  = row['registered']\n",
    "                    new_point['cnt']  = row['cnt']\n",
    "                    new_point['dteday']  = row['dteday']\n",
    "                    trip_writer.writerow(new_point)\n",
    "\n",
    "                    "
   ]
  },
  {
   "cell_type": "code",
   "execution_count": 6,
   "metadata": {},
   "outputs": [],
   "source": [
    "trip_in = ['201101_hour.csv']\n",
    "trip_out = '201101_hour_summary.csv'\n",
    "summarise_data(trip_in, trip_out)"
   ]
  },
  {
   "cell_type": "code",
   "execution_count": 7,
   "metadata": {},
   "outputs": [
    {
     "data": {
      "text/html": [
       "<div>\n",
       "<style scoped>\n",
       "    .dataframe tbody tr th:only-of-type {\n",
       "        vertical-align: middle;\n",
       "    }\n",
       "\n",
       "    .dataframe tbody tr th {\n",
       "        vertical-align: top;\n",
       "    }\n",
       "\n",
       "    .dataframe thead th {\n",
       "        text-align: right;\n",
       "    }\n",
       "</style>\n",
       "<table border=\"1\" class=\"dataframe\">\n",
       "  <thead>\n",
       "    <tr style=\"text-align: right;\">\n",
       "      <th></th>\n",
       "      <th>dteday</th>\n",
       "      <th>day</th>\n",
       "      <th>month</th>\n",
       "      <th>year</th>\n",
       "      <th>hour</th>\n",
       "      <th>holiday</th>\n",
       "      <th>weekday</th>\n",
       "      <th>workingday</th>\n",
       "      <th>casual</th>\n",
       "      <th>registered</th>\n",
       "      <th>cnt</th>\n",
       "    </tr>\n",
       "  </thead>\n",
       "  <tbody>\n",
       "    <tr>\n",
       "      <th>0</th>\n",
       "      <td>2011-01-01</td>\n",
       "      <td>1</td>\n",
       "      <td>1</td>\n",
       "      <td>2011</td>\n",
       "      <td>0</td>\n",
       "      <td>0</td>\n",
       "      <td>5</td>\n",
       "      <td>0</td>\n",
       "      <td>3</td>\n",
       "      <td>13</td>\n",
       "      <td>16</td>\n",
       "    </tr>\n",
       "    <tr>\n",
       "      <th>1</th>\n",
       "      <td>2011-01-01</td>\n",
       "      <td>1</td>\n",
       "      <td>1</td>\n",
       "      <td>2011</td>\n",
       "      <td>1</td>\n",
       "      <td>0</td>\n",
       "      <td>5</td>\n",
       "      <td>0</td>\n",
       "      <td>8</td>\n",
       "      <td>32</td>\n",
       "      <td>40</td>\n",
       "    </tr>\n",
       "    <tr>\n",
       "      <th>2</th>\n",
       "      <td>2011-01-01</td>\n",
       "      <td>1</td>\n",
       "      <td>1</td>\n",
       "      <td>2011</td>\n",
       "      <td>2</td>\n",
       "      <td>0</td>\n",
       "      <td>5</td>\n",
       "      <td>0</td>\n",
       "      <td>5</td>\n",
       "      <td>27</td>\n",
       "      <td>32</td>\n",
       "    </tr>\n",
       "    <tr>\n",
       "      <th>3</th>\n",
       "      <td>2011-01-01</td>\n",
       "      <td>1</td>\n",
       "      <td>1</td>\n",
       "      <td>2011</td>\n",
       "      <td>3</td>\n",
       "      <td>0</td>\n",
       "      <td>5</td>\n",
       "      <td>0</td>\n",
       "      <td>3</td>\n",
       "      <td>10</td>\n",
       "      <td>13</td>\n",
       "    </tr>\n",
       "    <tr>\n",
       "      <th>4</th>\n",
       "      <td>2011-01-01</td>\n",
       "      <td>1</td>\n",
       "      <td>1</td>\n",
       "      <td>2011</td>\n",
       "      <td>4</td>\n",
       "      <td>0</td>\n",
       "      <td>5</td>\n",
       "      <td>0</td>\n",
       "      <td>0</td>\n",
       "      <td>1</td>\n",
       "      <td>1</td>\n",
       "    </tr>\n",
       "  </tbody>\n",
       "</table>\n",
       "</div>"
      ],
      "text/plain": [
       "       dteday  day  month  year  hour  holiday  weekday  workingday  casual  \\\n",
       "0  2011-01-01    1      1  2011     0        0        5           0       3   \n",
       "1  2011-01-01    1      1  2011     1        0        5           0       8   \n",
       "2  2011-01-01    1      1  2011     2        0        5           0       5   \n",
       "3  2011-01-01    1      1  2011     3        0        5           0       3   \n",
       "4  2011-01-01    1      1  2011     4        0        5           0       0   \n",
       "\n",
       "   registered  cnt  \n",
       "0          13   16  \n",
       "1          32   40  \n",
       "2          27   32  \n",
       "3          10   13  \n",
       "4           1    1  "
      ]
     },
     "metadata": {},
     "output_type": "display_data"
    }
   ],
   "source": [
    "sample_data = pd.read_csv('201101_hour_summary.csv')\n",
    "display(sample_data.head())"
   ]
  },
  {
   "cell_type": "markdown",
   "metadata": {},
   "source": [
    "## Análise Exploratória de Dados\n"
   ]
  },
  {
   "cell_type": "code",
   "execution_count": 8,
   "metadata": {},
   "outputs": [
    {
     "data": {
      "text/html": [
       "<div>\n",
       "<style scoped>\n",
       "    .dataframe tbody tr th:only-of-type {\n",
       "        vertical-align: middle;\n",
       "    }\n",
       "\n",
       "    .dataframe tbody tr th {\n",
       "        vertical-align: top;\n",
       "    }\n",
       "\n",
       "    .dataframe thead th {\n",
       "        text-align: right;\n",
       "    }\n",
       "</style>\n",
       "<table border=\"1\" class=\"dataframe\">\n",
       "  <thead>\n",
       "    <tr style=\"text-align: right;\">\n",
       "      <th></th>\n",
       "      <th>dteday</th>\n",
       "      <th>day</th>\n",
       "      <th>month</th>\n",
       "      <th>year</th>\n",
       "      <th>hour</th>\n",
       "      <th>holiday</th>\n",
       "      <th>weekday</th>\n",
       "      <th>workingday</th>\n",
       "      <th>casual</th>\n",
       "      <th>registered</th>\n",
       "      <th>cnt</th>\n",
       "    </tr>\n",
       "  </thead>\n",
       "  <tbody>\n",
       "    <tr>\n",
       "      <th>0</th>\n",
       "      <td>2011-01-01</td>\n",
       "      <td>1</td>\n",
       "      <td>1</td>\n",
       "      <td>2011</td>\n",
       "      <td>0</td>\n",
       "      <td>0</td>\n",
       "      <td>5</td>\n",
       "      <td>0</td>\n",
       "      <td>3</td>\n",
       "      <td>13</td>\n",
       "      <td>16</td>\n",
       "    </tr>\n",
       "    <tr>\n",
       "      <th>1</th>\n",
       "      <td>2011-01-01</td>\n",
       "      <td>1</td>\n",
       "      <td>1</td>\n",
       "      <td>2011</td>\n",
       "      <td>1</td>\n",
       "      <td>0</td>\n",
       "      <td>5</td>\n",
       "      <td>0</td>\n",
       "      <td>8</td>\n",
       "      <td>32</td>\n",
       "      <td>40</td>\n",
       "    </tr>\n",
       "    <tr>\n",
       "      <th>2</th>\n",
       "      <td>2011-01-01</td>\n",
       "      <td>1</td>\n",
       "      <td>1</td>\n",
       "      <td>2011</td>\n",
       "      <td>2</td>\n",
       "      <td>0</td>\n",
       "      <td>5</td>\n",
       "      <td>0</td>\n",
       "      <td>5</td>\n",
       "      <td>27</td>\n",
       "      <td>32</td>\n",
       "    </tr>\n",
       "    <tr>\n",
       "      <th>3</th>\n",
       "      <td>2011-01-01</td>\n",
       "      <td>1</td>\n",
       "      <td>1</td>\n",
       "      <td>2011</td>\n",
       "      <td>3</td>\n",
       "      <td>0</td>\n",
       "      <td>5</td>\n",
       "      <td>0</td>\n",
       "      <td>3</td>\n",
       "      <td>10</td>\n",
       "      <td>13</td>\n",
       "    </tr>\n",
       "    <tr>\n",
       "      <th>4</th>\n",
       "      <td>2011-01-01</td>\n",
       "      <td>1</td>\n",
       "      <td>1</td>\n",
       "      <td>2011</td>\n",
       "      <td>4</td>\n",
       "      <td>0</td>\n",
       "      <td>5</td>\n",
       "      <td>0</td>\n",
       "      <td>0</td>\n",
       "      <td>1</td>\n",
       "      <td>1</td>\n",
       "    </tr>\n",
       "  </tbody>\n",
       "</table>\n",
       "</div>"
      ],
      "text/plain": [
       "       dteday  day  month  year  hour  holiday  weekday  workingday  casual  \\\n",
       "0  2011-01-01    1      1  2011     0        0        5           0       3   \n",
       "1  2011-01-01    1      1  2011     1        0        5           0       8   \n",
       "2  2011-01-01    1      1  2011     2        0        5           0       5   \n",
       "3  2011-01-01    1      1  2011     3        0        5           0       3   \n",
       "4  2011-01-01    1      1  2011     4        0        5           0       0   \n",
       "\n",
       "   registered  cnt  \n",
       "0          13   16  \n",
       "1          32   40  \n",
       "2          27   32  \n",
       "3          10   13  \n",
       "4           1    1  "
      ]
     },
     "metadata": {},
     "output_type": "display_data"
    }
   ],
   "source": [
    "trip_in = ['hour.csv']\n",
    "trip_out = 'hour_summary.csv'\n",
    "summarise_data(trip_in, trip_out)\n",
    "trip_data = pd.read_csv('hour_summary.csv')\n",
    "display(trip_data.head())"
   ]
  },
  {
   "cell_type": "code",
   "execution_count": 9,
   "metadata": {},
   "outputs": [
    {
     "name": "stdout",
     "output_type": "stream",
     "text": [
      "Os dias mais calmos tiveream apenas 1 corrida.\n",
      "\n",
      "Já o dia mais agitado foi no dia 2012-09-12 e teve 977 corridas\n",
      "\n"
     ]
    }
   ],
   "source": [
    "print('Os dias mais calmos tiveream apenas {:d} corrida.\\n'.format(trip_data.cnt.min()))\n",
    "trip_data.index[trip_data['cnt'] == trip_data.cnt.max()].tolist()\n",
    "when = trip_data['dteday'][14773]\n",
    "print('Já o dia mais agitado foi no dia {:s} e teve {:d} corridas\\n'.format(when, trip_data.cnt.max()))\n",
    "\n"
   ]
  },
  {
   "cell_type": "markdown",
   "metadata": {},
   "source": [
    "![ok](search.png)"
   ]
  },
  {
   "cell_type": "code",
   "execution_count": 10,
   "metadata": {},
   "outputs": [
    {
     "name": "stdout",
     "output_type": "stream",
     "text": [
      "Existem 17379 pontos no conjunto de dados\n",
      "\n",
      "A média de viagem por hora foi de 189.46.\n",
      "sendo 35.68 representados por usuarios casuais.\n",
      "e 153.79 por usuarios registrados. \n",
      "\n",
      "A mediana do numero de viagens foi de 142.00.\n",
      "sendo 17.00 a mediana para usuários casuais.\n",
      "e 115.00 a mediana para usuários registrados.\n",
      "\n",
      "25% das horas tiveram menos que 40.00 usuários\n",
      "25% das horas tiveram mais 281.00 usuários \n"
     ]
    }
   ],
   "source": [
    "print('Existem {:d} pontos no conjunto de dados\\n'.format(trip_data.shape[0]))\n",
    "print('A média de viagem por hora foi de {:.2f}.'.format(trip_data.cnt.mean()))\n",
    "print('sendo {:.2f} representados por usuarios casuais.'.format(trip_data.casual.mean()))\n",
    "print('e {:.2f} por usuarios registrados. \\n'.format(trip_data.registered.mean()))\n",
    "print('A mediana do numero de viagens foi de {:.2f}.'.format(trip_data.cnt.median()))\n",
    "print('sendo {:.2f} a mediana para usuários casuais.'.format(trip_data.casual.median()))\n",
    "print('e {:.2f} a mediana para usuários registrados.\\n'.format(trip_data.registered.median()))\n",
    "\n",
    "cnt_qtiles = trip_data['cnt'].quantile([.25, .5, .75]).values\n",
    "print('25% das horas tiveram menos que {:.2f} usuários'.format(cnt_qtiles.min()))\n",
    "print('25% das horas tiveram mais {:.2f} usuários '.format(cnt_qtiles.max()))"
   ]
  },
  {
   "cell_type": "code",
   "execution_count": 11,
   "metadata": {},
   "outputs": [
    {
     "data": {
      "image/png": "[encoded data removed]",
      "text/plain": [
       "<Figure size 432x288 with 1 Axes>"
      ]
     },
     "metadata": {},
     "output_type": "display_data"
    }
   ],
   "source": [
    "import matplotlib.pyplot as plt\n",
    "trip_data.cnt.plot.hist();\n",
    "plt.title('Histograma')\n",
    "plt.show();"
   ]
  },
  {
   "cell_type": "markdown",
   "metadata": {},
   "source": [
    "## Interpretação dos resultados\n",
    "O Histograma acima exibe a frequencia de ocorrencias do totais de viagens por hora."
   ]
  },
  {
   "cell_type": "code",
   "execution_count": 12,
   "metadata": {},
   "outputs": [
    {
     "name": "stdout",
     "output_type": "stream",
     "text": [
      "Casual         620017\n",
      "Registered    2672662\n",
      "dtype: int64\n"
     ]
    },
    {
     "data": {
      "image/png": "[encoded data removed]",
      "text/plain": [
       "<Figure size 720x360 with 1 Axes>"
      ]
     },
     "metadata": {},
     "output_type": "display_data"
    }
   ],
   "source": [
    "\n",
    "\n",
    "total_casual = trip_data.casual.sum()\n",
    "total_registered = trip_data.registered.sum()\n",
    "counts = pd.Series([total_casual,total_registered], index=['Casual', 'Registered'])\n",
    "\n",
    "counts.plot.bar(figsize=(10, 5), title='Quantidade vs Tipo de usuário')\n",
    "\n",
    "print(counts)\n",
    "plt.ylabel('Quantidade')\n",
    "plt.xlabel('Tipo')\n",
    "plt.show()"
   ]
  },
  {
   "cell_type": "markdown",
   "metadata": {},
   "source": [
    "## Interpretação dos resultados\n",
    "Podemos afirmar que maior renda do serviço vem por parte de usuários do tipo **registrados**. "
   ]
  },
  {
   "cell_type": "code",
   "execution_count": 13,
   "metadata": {},
   "outputs": [
    {
     "data": {
      "image/png": "[encoded data removed]",
      "text/plain": [
       "<Figure size 720x360 with 1 Axes>"
      ]
     },
     "metadata": {},
     "output_type": "display_data"
    }
   ],
   "source": [
    "\n",
    "tick_labels_weekday = ['Segunda', 'Terça', 'Quarta', 'Quinta', 'Sexta', 'Sábado', 'Domingo']\n",
    "ind_weekday = np.arange(len(tick_labels_weekday))\n",
    "tamanho_weekday = 0.20\n",
    "\n",
    "ticks_weekday = ind_weekday + tamanho_weekday / 3\n",
    "\n",
    "casual_weekday = trip_data.groupby('weekday').sum().casual\n",
    "registered_weekday = trip_data.groupby('weekday').sum().registered\n",
    "both_weekday = trip_data.groupby('weekday').sum().cnt\n",
    "\n",
    "plt.figure(figsize=(10, 5))\n",
    "\n",
    "plt.bar(ind_weekday + tamanho_weekday/2, both_weekday, tamanho_weekday* 2)\n",
    "plt.bar(ind_weekday, casual_weekday, tamanho_weekday)\n",
    "plt.bar(ind_weekday + tamanho_weekday, registered_weekday, tamanho_weekday)\n",
    "\n",
    "\n",
    "plt.title('Quantidade vs Dia da Semana ')\n",
    "plt.xlabel('Dia da Semana')\n",
    "plt.xticks(ticks_weekday, tick_labels_weekday)\n",
    "plt.ylabel('Quantidade de Viagens')\n",
    "plt.legend(['Both', 'Casual', 'Registered', ])\n",
    "plt.show();"
   ]
  },
  {
   "cell_type": "markdown",
   "metadata": {},
   "source": [
    "# Interpretação dos resultados\n",
    "Pude observar uma pouca diminuição no número de viagens nos finais de semana com relacao aos demais dias. Esse equilíbrio se deu graças ao aumento de viagens dos usuários **casuais**, já que há uma queda considerável no número de viagens do tipo **registered**\n",
    "\n",
    "Interessante notar o aumento de viagens por parte dos usuários **casuais** nos finais de semana ocorra por esses dias serem mais propensos a atividades de lazer e turismo."
   ]
  },
  {
   "cell_type": "code",
   "execution_count": 14,
   "metadata": {},
   "outputs": [
    {
     "data": {
      "image/png": "[encoded data removed]",
      "text/plain": [
       "<Figure size 1152x720 with 1 Axes>"
      ]
     },
     "metadata": {},
     "output_type": "display_data"
    }
   ],
   "source": [
    "tick_labels_hour = ['12am', '1am', '2am', '3am', '4am', '5am','6am',\n",
    "               '7am', '8am', '9am', '10am', '11am', '12pm', '1pm', '2pm',\n",
    "               '3pm', '4pm', '5pm', '6pm', '7pm', '8pm', '9pm', '10pm', '11pm']\n",
    "ind_hour = np.arange(len(tick_labels_hour))\n",
    "tamanho_hour = 0.2\n",
    "\n",
    "ticks_hour = ind_hour + tamanho_hour / 2\n",
    "\n",
    "trips_casual = trip_data.groupby('hour').sum().casual\n",
    "trips_registered = trip_data.groupby('hour').sum().registered\n",
    "# trips_casual.plot.bar()\n",
    "\n",
    "plt.figure(figsize=(16, 10))\n",
    "plt.bar(ind_hour, trips_casual, tamanho_hour)\n",
    "plt.bar(ind_hour + tamanho_hour, trips_registered, tamanho_hour)\n",
    "\n",
    "plt.title('Horário vs Quantidade')\n",
    "plt.ylabel('Quantidade')\n",
    "plt.xlabel('Horário')\n",
    "plt.xticks(ticks_hour, tick_labels_hour)\n",
    "plt.legend(['Casual', 'Registered'])\n",
    "\n",
    "plt.show();\n"
   ]
  },
  {
   "cell_type": "markdown",
   "metadata": {},
   "source": [
    "## Interpretação dos resultados\n",
    "É interessante notar o pico no inicio da manhã e final da tarde dos \n",
    "usuários do tipo **registered**, provavelmente alguma relação com o horário de entrada e saída \n",
    "de trabalho."
   ]
  },
  {
   "cell_type": "code",
   "execution_count": 15,
   "metadata": {},
   "outputs": [
    {
     "data": {
      "image/png": "[encoded data removed]",
      "text/plain": [
       "<Figure size 720x360 with 1 Axes>"
      ]
     },
     "metadata": {},
     "output_type": "display_data"
    }
   ],
   "source": [
    "tick_labels_weekday = ['Free Day', 'Working Day']\n",
    "ind_weekday = np.arange(len(tick_labels_weekday))\n",
    "tamanho_weekday = 0.35\n",
    "\n",
    "ticks_weekday = ind_weekday + tamanho_weekday / 2\n",
    "\n",
    "casual_weekday = trip_data.groupby('workingday').sum().casual\n",
    "registered_weekday = trip_data.groupby('workingday').sum().registered\n",
    "\n",
    "plt.figure(figsize=(10, 5))\n",
    "plt.bar(ind_weekday, casual_weekday, tamanho_weekday)\n",
    "plt.bar(ind_weekday + tamanho_weekday, registered_weekday, tamanho_weekday)\n",
    "\n",
    "plt.title('Quantidade vs Dia da Semana ')\n",
    "plt.xlabel('Dia da Semana')\n",
    "plt.xticks(ticks_weekday, tick_labels_weekday)\n",
    "plt.ylabel('Quantidade de Viagens')\n",
    "plt.legend(['Casual', 'Registered'])\n",
    "plt.show();"
   ]
  },
  {
   "cell_type": "markdown",
   "metadata": {},
   "source": [
    "## Interpretação dos resultados\n",
    "O comportamento dos usuários **casuais** é praticamente o mesmo nos dias de trabalho e nos dias livres.\n",
    "\n",
    "Já o comportamento dos usuários **registered** é bem diferente. eles usam mais o serviço em dias de trabalho que em dias livres."
   ]
  },
  {
   "cell_type": "markdown",
   "metadata": {},
   "source": [
    "## Fonte dos dados\n",
    "https://archive.ics.uci.edu/ml/datasets/Bike+Sharing+Dataset\n",
    "### Citation Request:\n",
    "Fanaee-T, Hadi, and Gama, Joao, 'Event labeling combining ensemble detectors and background knowledge', Progress in Artificial Intelligence (2013): pp. 1-15, Springer Berlin Heidelberg, [doi:10.1007/s13748-013-0040-3]. "
   ]
  },
  {
   "cell_type": "code",
   "execution_count": null,
   "metadata": {},
   "outputs": [],
   "source": []
  }
 ],
 "metadata": {
  "colab": {
   "name": "Bike-Sharing-DataSet.ipynb",
   "provenance": [],
   "version": "0.3.2"
  },
  "kernelspec": {
   "display_name": "Python 3",
   "language": "python",
   "name": "python3"
  },
  "language_info": {
   "codemirror_mode": {
    "name": "ipython",
    "version": 3
   },
   "file_extension": ".py",
   "mimetype": "text/x-python",
   "name": "python",
   "nbconvert_exporter": "python",
   "pygments_lexer": "ipython3",
   "version": "3.7.0"
  }
 },
 "nbformat": 4,
 "nbformat_minor": 1
}
